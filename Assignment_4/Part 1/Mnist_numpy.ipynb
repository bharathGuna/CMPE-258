{
  "nbformat": 4,
  "nbformat_minor": 0,
  "metadata": {
    "accelerator": "GPU",
    "colab": {
      "name": "Mnist_numpy.ipynb",
      "provenance": [],
      "collapsed_sections": []
    },
    "kernelspec": {
      "display_name": "Python 3",
      "name": "python3"
    },
    "language_info": {
      "name": "python"
    }
  },
  "cells": [
    {
      "cell_type": "markdown",
      "metadata": {
        "id": "6JAglqLT-Uyn"
      },
      "source": [
        "# Bharath Gunasekaran\n",
        "# CMPE 258\n",
        "\n",
        "Mnist with numpy mlp"
      ]
    },
    {
      "cell_type": "code",
      "metadata": {
        "id": "WBWntqoFQy-M"
      },
      "source": [
        "import numpy as np\n",
        "from keras.datasets import mnist\n",
        "import matplotlib\n",
        "import matplotlib.pyplot as plt\n",
        "import seaborn as sns\n",
        "from sklearn.metrics import confusion_matrix\n",
        "import sys, numpy as np\n",
        "from keras.datasets import mnist\n",
        "from keras.preprocessing.image import ImageDataGenerator\n"
      ],
      "execution_count": 1,
      "outputs": []
    },
    {
      "cell_type": "code",
      "metadata": {
        "id": "S0CCa8_FnX8q"
      },
      "source": [
        "(x_train, y_train), (x_test, y_test) = mnist.load_data()"
      ],
      "execution_count": 2,
      "outputs": []
    },
    {
      "cell_type": "code",
      "metadata": {
        "colab": {
          "base_uri": "https://localhost:8080/",
          "height": 285
        },
        "id": "11PekBjLRm99",
        "outputId": "b06c7a9e-7edb-46e6-e8a2-af9cb96ff2ee"
      },
      "source": [
        "# Looking at how the data looks\n",
        "plt.subplot(221)\n",
        "plt.imshow(x_train[0], cmap=plt.get_cmap('gray'))\n",
        "plt.subplot(222)\n",
        "plt.imshow(x_train[1], cmap=plt.get_cmap('gray'))\n",
        "plt.subplot(223)\n",
        "plt.imshow(x_train[2], cmap=plt.get_cmap('gray'))\n",
        "plt.subplot(224)\n",
        "plt.imshow(x_train[3], cmap=plt.get_cmap('gray'))\n",
        "# show the plot\n",
        "plt.show()\n",
        "print(x_train[0].shape)"
      ],
      "execution_count": 3,
      "outputs": [
        {
          "output_type": "display_data",
          "data": {
            "image/png": "[encoded data removed]",
            "text/plain": [
              "<Figure size 432x288 with 4 Axes>"
            ]
          },
          "metadata": {
            "tags": [],
            "needs_background": "light"
          }
        },
        {
          "output_type": "stream",
          "text": [
            "(28, 28)\n"
          ],
          "name": "stdout"
        }
      ]
    },
    {
      "cell_type": "code",
      "metadata": {
        "id": "SPjDWlRinrDd"
      },
      "source": [
        "# Reshaping data for image augmentation\n",
        "x_train = x_train.reshape(-1,28,28,1)\n",
        "x_test = x_test.reshape(-1,28,28,1)"
      ],
      "execution_count": 4,
      "outputs": []
    },
    {
      "cell_type": "code",
      "metadata": {
        "colab": {
          "base_uri": "https://localhost:8080/"
        },
        "id": "UPU_8xm_o9yD",
        "outputId": "2703986b-d998-45ea-c620-62ee6ccb83f1"
      },
      "source": [
        "x_train.shape"
      ],
      "execution_count": 5,
      "outputs": [
        {
          "output_type": "execute_result",
          "data": {
            "text/plain": [
              "(60000, 28, 28, 1)"
            ]
          },
          "metadata": {
            "tags": []
          },
          "execution_count": 5
        }
      ]
    },
    {
      "cell_type": "code",
      "metadata": {
        "id": "foN2GOzSn8WI"
      },
      "source": [
        "datagen =  ImageDataGenerator(\n",
        "        featurewise_center=False,  # set input mean to 0 over the dataset\n",
        "        samplewise_center=False,  # set each sample mean to 0\n",
        "        featurewise_std_normalization=False,  # divide inputs by std of the dataset\n",
        "        samplewise_std_normalization=False,  # divide each input by its std\n",
        "        zca_whitening=False,  # apply ZCA whitening\n",
        "        rotation_range=10,  # randomly rotate images in the range (degrees, 0 to 180)\n",
        "        zoom_range = 0.1, # Randomly zoom image \n",
        "        width_shift_range=0.1,  # randomly shift images horizontally (fraction of total width)\n",
        "        height_shift_range=0.1,  # randomly shift images vertically (fraction of total height)\n",
        "        horizontal_flip=False,  # randomly flip images\n",
        "        vertical_flip=False)  # randomly flip images\n",
        "\n",
        "datagen.fit(x_train)\n"
      ],
      "execution_count": 6,
      "outputs": []
    },
    {
      "cell_type": "code",
      "metadata": {
        "id": "v3cMOjffCG7J"
      },
      "source": [
        "# Normalizing Images\n",
        "x_train = x_train/255\n",
        "x_test = x_test/255"
      ],
      "execution_count": 7,
      "outputs": []
    },
    {
      "cell_type": "code",
      "metadata": {
        "colab": {
          "base_uri": "https://localhost:8080/",
          "height": 283
        },
        "id": "2gHrm3SDo2t-",
        "outputId": "e23e8ae4-eac1-4367-e1de-b4b63447a689"
      },
      "source": [
        "plt.imshow(x_train[0][:,:,0])"
      ],
      "execution_count": 8,
      "outputs": [
        {
          "output_type": "execute_result",
          "data": {
            "text/plain": [
              "<matplotlib.image.AxesImage at 0x7f8288d61bd0>"
            ]
          },
          "metadata": {
            "tags": []
          },
          "execution_count": 8
        },
        {
          "output_type": "display_data",
          "data": {
            "image/png": "[encoded data removed]",
            "text/plain": [
              "<Figure size 432x288 with 1 Axes>"
            ]
          },
          "metadata": {
            "tags": [],
            "needs_background": "light"
          }
        }
      ]
    },
    {
      "cell_type": "code",
      "metadata": {
        "id": "4s54ENrSx-aR"
      },
      "source": [
        "# Activation Functions \n",
        "def relu(x):\n",
        "    return (x >= 0) * x\n",
        "\n",
        "def relu2deriv(output):\n",
        "    return output >= 0\n",
        "\n",
        "def tanh(x):\n",
        "    return np.tanh(x)\n",
        "\n",
        "def tanhDeriv(output):\n",
        "    return 1 - (output ** 2)"
      ],
      "execution_count": 9,
      "outputs": []
    },
    {
      "cell_type": "code",
      "metadata": {
        "id": "XhnSdREnEsCY"
      },
      "source": [
        "import sys, numpy as np\n",
        "from keras.datasets import mnist\n",
        "from keras.preprocessing.image import ImageDataGenerator\n",
        "\n",
        "# Reshaping training data and one hot label for y_train\n",
        "# image size\n",
        "pixel_width = 28\n",
        "images, labels = x_train.reshape(len(x_train),pixel_width**2), y_train\n",
        "\n",
        "train_labels = np.zeros((len(labels),10))\n",
        "for i,l in enumerate(labels):\n",
        "    train_labels[i][l] = 1\n",
        "labels = train_labels\n",
        "\n",
        "test_images = x_test.reshape(len(x_test),pixel_width**2)\n",
        "test_labels = np.zeros((len(y_test),10))\n",
        "for i,l in enumerate(y_test):\n",
        "    test_labels[i][l] = 1"
      ],
      "execution_count": 10,
      "outputs": []
    },
    {
      "cell_type": "code",
      "metadata": {
        "id": "rVGCLBDAbnZb"
      },
      "source": [
        "\n",
        "def create_weights(layers):\n",
        "    weights1 = 0.01 * np.random.randn(layers[0],layers[1])\n",
        "    weights2 = 0.01 * np.random.randn(layers[1],layers[2])\n",
        "    weights3 = 0.01 * np.random.randn(layers[2],layers[3])\n",
        "    return (weights1, weights2, weights3)"
      ],
      "execution_count": 11,
      "outputs": []
    },
    {
      "cell_type": "code",
      "metadata": {
        "colab": {
          "base_uri": "https://localhost:8080/"
        },
        "id": "SY-Eq5CxIt2H",
        "outputId": "ace1b000-8f88-4ba8-c246-8502fd0b9ae5"
      },
      "source": [
        "import numpy as np\n",
        "from keras.datasets import mnist\n",
        "from keras.preprocessing.image import ImageDataGenerator\n",
        "\n",
        "np.random.seed(2)\n",
        "\n",
        "# Intializing weights and parameters for Neural Network\n",
        "batch_size = 100\n",
        "alpha, iterations = (0.02, 20                                                      )\n",
        "pixels_per_image, hidden_size1, hidden_size2, num_labels = (pixel_width**2, 300,250, 10)\n",
        "\n",
        "weights1, weights2, weights3 = create_weights([pixel_width**2, 300,250, 10])\n",
        "\n",
        "\n",
        "y_pred = []\n",
        "y_true = []\n",
        "test_accuracy = []\n",
        "train_accuracy = []\n",
        "test_err = []\n",
        "train_err = []\n",
        "for j in range(iterations):\n",
        "    error, train_correct_pred = (0.0, 0)\n",
        "    # Training with mini batch\n",
        "    for i in range(int(len(images) / batch_size)):\n",
        "        # Creating our batch\n",
        "        batch_start, batch_end = ((i * batch_size),((i+1)*batch_size))\n",
        "\n",
        "        \"\"\"\n",
        "        Forward Propagation with 3 layers. \n",
        "        Using a relu and tanh activation layer.\n",
        "        Also using 2 different dropout rate for layer 1 and layer 2. \n",
        "        \"\"\"\n",
        "        input_layer = images[batch_start:batch_end]\n",
        "        layer1 = relu(np.dot(input_layer,weights1))\n",
        "        dropout_mask = np.random.randint(2,size=layer1.shape)\n",
        "        layer1 *= dropout_mask * 2\n",
        "        layer2 = tanh(np.dot(layer1,weights2))\n",
        "        dropout_mask2 = np.random.randint(2,size=layer2.shape)\n",
        "        layer2 *= dropout_mask2 * 1.5\n",
        "\n",
        "        layer3 = np.dot(layer2,weights3)\n",
        "\n",
        "        # Calculating Error\n",
        "        error += np.sum((labels[batch_start:batch_end] - layer3) ** 2)\n",
        "        for k in range(batch_size):\n",
        "            train_correct_pred += int(np.argmax(layer3[k:k+1]) == np.argmax(labels[batch_start+k:batch_start+k+1]))\n",
        "\n",
        "        # Backpropagation \n",
        "        layer_3_delta = (labels[batch_start:batch_end]-layer3)/batch_size\n",
        "        layer_2_delta = layer_3_delta.dot(weights3.T)* tanhDeriv(layer2)\n",
        "        layer_2_delta *= dropout_mask2\n",
        "        layer_1_delta = layer_2_delta.dot(weights2.T)* relu2deriv(layer1)\n",
        "        layer_1_delta *= dropout_mask\n",
        "\n",
        "        # Updating the weights\n",
        "        weights3 += alpha * layer2.T.dot(layer_3_delta)\n",
        "        weights2 += alpha * layer1.T.dot(layer_2_delta)\n",
        "        weights1 += alpha * input_layer.T.dot(layer_1_delta)\n",
        "            \n",
        "    test_error = 0.0\n",
        "    test_correct_pred = 0\n",
        "    y_pred = []\n",
        "    y_true = []\n",
        "    # Validating our model at every iteration\n",
        "    for i in range(len(test_images)):\n",
        "        layer0 = test_images[i:i+1]\n",
        "        layer1 = relu(np.dot(layer0,weights1))\n",
        "        layer2 = tanh(np.dot(layer1, weights2))\n",
        "        layer3 = np.dot(layer2,weights3)\n",
        "\n",
        "\n",
        "        test_error += np.sum((test_labels[i:i+1] - layer3) ** 2)\n",
        "        y_pred += [int(np.argmax(layer3))]\n",
        "        y_true += [np.argmax(test_labels[i:i+1])]\n",
        "        test_correct_pred += int(np.argmax(layer3) == np.argmax(test_labels[i:i+1]))\n",
        "\n",
        "    tterr = round(test_error/ float(len(test_images)),3)\n",
        "    ttacc = round(test_correct_pred/ float(len(test_images)),3)\n",
        "    tnerr = round(error/ float(len(images)),3)\n",
        "    tnacc = round(train_correct_pred/ float(len(images)),3)\n",
        "    test_accuracy.append(ttacc)\n",
        "    train_accuracy.append(tnacc)\n",
        "    test_err.append(tterr)\n",
        "    train_err.append(tnerr)\n",
        "\n",
        "    # Printing out Training and Test error and accuracy \n",
        "    print(\"Iteraction: {} Test Error: {} Test Accuracy: {} Train Error: {} Train Accuracy {}\".format(j,tterr,ttacc,tnerr,tnacc))"
      ],
      "execution_count": 12,
      "outputs": [
        {
          "output_type": "stream",
          "text": [
            "Iteraction: 0 Test Error: 0.898 Test Accuracy: 0.224 Train Error: 0.941 Train Accuracy 0.171\n",
            "Iteraction: 1 Test Error: 0.828 Test Accuracy: 0.569 Train Error: 0.876 Train Accuracy 0.328\n",
            "Iteraction: 2 Test Error: 0.705 Test Accuracy: 0.579 Train Error: 0.785 Train Accuracy 0.483\n",
            "Iteraction: 3 Test Error: 0.631 Test Accuracy: 0.619 Train Error: 0.694 Train Accuracy 0.561\n",
            "Iteraction: 4 Test Error: 0.564 Test Accuracy: 0.671 Train Error: 0.63 Train Accuracy 0.618\n",
            "Iteraction: 5 Test Error: 0.504 Test Accuracy: 0.73 Train Error: 0.575 Train Accuracy 0.676\n",
            "Iteraction: 6 Test Error: 0.457 Test Accuracy: 0.749 Train Error: 0.528 Train Accuracy 0.718\n",
            "Iteraction: 7 Test Error: 0.43 Test Accuracy: 0.754 Train Error: 0.496 Train Accuracy 0.731\n",
            "Iteraction: 8 Test Error: 0.419 Test Accuracy: 0.757 Train Error: 0.476 Train Accuracy 0.736\n",
            "Iteraction: 9 Test Error: 0.41 Test Accuracy: 0.766 Train Error: 0.465 Train Accuracy 0.743\n",
            "Iteraction: 10 Test Error: 0.403 Test Accuracy: 0.793 Train Error: 0.456 Train Accuracy 0.759\n",
            "Iteraction: 11 Test Error: 0.392 Test Accuracy: 0.837 Train Error: 0.448 Train Accuracy 0.785\n",
            "Iteraction: 12 Test Error: 0.384 Test Accuracy: 0.862 Train Error: 0.441 Train Accuracy 0.813\n",
            "Iteraction: 13 Test Error: 0.371 Test Accuracy: 0.875 Train Error: 0.431 Train Accuracy 0.833\n",
            "Iteraction: 14 Test Error: 0.363 Test Accuracy: 0.88 Train Error: 0.423 Train Accuracy 0.843\n",
            "Iteraction: 15 Test Error: 0.357 Test Accuracy: 0.88 Train Error: 0.415 Train Accuracy 0.848\n",
            "Iteraction: 16 Test Error: 0.354 Test Accuracy: 0.879 Train Error: 0.41 Train Accuracy 0.851\n",
            "Iteraction: 17 Test Error: 0.354 Test Accuracy: 0.88 Train Error: 0.409 Train Accuracy 0.851\n",
            "Iteraction: 18 Test Error: 0.353 Test Accuracy: 0.88 Train Error: 0.407 Train Accuracy 0.851\n",
            "Iteraction: 19 Test Error: 0.353 Test Accuracy: 0.88 Train Error: 0.406 Train Accuracy 0.851\n"
          ],
          "name": "stdout"
        }
      ]
    },
    {
      "cell_type": "code",
      "metadata": {
        "colab": {
          "base_uri": "https://localhost:8080/",
          "height": 311
        },
        "id": "aBg_D3rWJyMd",
        "outputId": "4aaf3316-2f79-4e4b-f85a-77bbf6aaafa3"
      },
      "source": [
        "# Confusion matrix \n",
        "# Code referenced from https://www.kaggle.com/yassineghouzam/introduction-to-cnn-keras-0-997-top-6\n",
        "import itertools\n",
        "def plot_confusion_matrix(cm, classes,\n",
        "                          title='Confusion matrix',\n",
        "                          cmap=plt.cm.Blues):\n",
        "    plt.imshow(cm, interpolation='nearest', cmap=cmap)\n",
        "    plt.title(title)\n",
        "    plt.colorbar()\n",
        "    tick_marks = np.arange(len(classes))\n",
        "    plt.xticks(tick_marks, classes, rotation=45)\n",
        "    plt.yticks(tick_marks, classes)\n",
        "\n",
        "    thresh = cm.max() / 2.\n",
        "    for i, j in itertools.product(range(cm.shape[0]), range(cm.shape[1])):\n",
        "      plt.text(j, i, cm[i, j],horizontalalignment=\"center\",color=\"white\" if cm[i, j] > thresh else \"black\")\n",
        "\n",
        "    plt.tight_layout()\n",
        "    plt.ylabel('True labels')\n",
        "    plt.xlabel('Predicted labels')\n",
        "\n",
        "confusion_mtx = confusion_matrix(y_true, y_pred) \n",
        "plot_confusion_matrix(confusion_mtx, classes = range(10))"
      ],
      "execution_count": 18,
      "outputs": [
        {
          "output_type": "display_data",
          "data": {
            "image/png": "[encoded data removed]",
            "text/plain": [
              "<Figure size 432x288 with 2 Axes>"
            ]
          },
          "metadata": {
            "tags": [],
            "needs_background": "light"
          }
        }
      ]
    },
    {
      "cell_type": "code",
      "metadata": {
        "colab": {
          "base_uri": "https://localhost:8080/",
          "height": 297
        },
        "id": "SxrtlctzLTyI",
        "outputId": "0b1e5cf2-8083-45d3-d10d-6fc413213e92"
      },
      "source": [
        "# plotting the metrics\n",
        "plt.subplot(2,1,1)\n",
        "plt.plot(train_accuracy)\n",
        "plt.plot(test_accuracy)\n",
        "plt.title('Accuracy')\n",
        "plt.ylabel('accuracy')\n",
        "plt.xlabel('iteration')\n",
        "plt.xticks([])\n",
        "plt.legend(['train', 'test'], loc='lower right')\n",
        "\n",
        "plt.subplot(2,1,2)\n",
        "plt.plot(train_err)\n",
        "plt.plot(test_err)\n",
        "plt.title('model loss')\n",
        "plt.ylabel('loss')\n",
        "plt.xlabel('iteration')\n",
        "plt.legend(['train', 'test'], loc='upper right')\n",
        "\n",
        "plt.tight_layout()"
      ],
      "execution_count": 19,
      "outputs": [
        {
          "output_type": "display_data",
          "data": {
            "image/png": "[encoded data removed]",
            "text/plain": [
              "<Figure size 432x288 with 2 Axes>"
            ]
          },
          "metadata": {
            "tags": [],
            "needs_background": "light"
          }
        }
      ]
    },
    {
      "cell_type": "code",
      "metadata": {
        "id": "sWsmN-5YyHjU"
      },
      "source": [
        "# Finding all images that model failed to predict\n",
        "y_pred = np.array(y_pred)\n",
        "y_true = np.array(y_true)\n",
        "errors = (y_pred - y_true != 0)\n",
        "\n",
        "y_pred_errors = y_pred[errors]\n",
        "y_true_errors = y_true[errors]\n",
        "x_val_errors = x_test[errors]\n"
      ],
      "execution_count": 15,
      "outputs": []
    },
    {
      "cell_type": "code",
      "metadata": {
        "id": "gn5SqDdh4S77"
      },
      "source": [
        "def display_errors(img_errors, pred_errors, obs_errors):\n",
        "    \"\"\" This function shows 6 images with their predicted and real labels\"\"\"\n",
        "    n = 0\n",
        "    nrows = 2\n",
        "    ncols = 3\n",
        "    index = 0\n",
        "    fig, ax = plt.subplots(nrows,ncols,sharex=True,sharey=True)\n",
        "    for row in range(nrows):\n",
        "        for col in range(ncols):\n",
        "            ax[row,col].imshow((img_errors[index]).reshape((28,28)))\n",
        "            ax[row,col].set_title(\"Predicted label :{}\\nTrue label :{}\".format(pred_errors[index],obs_errors[index]))\n",
        "            n += 1\n",
        "            index+=1"
      ],
      "execution_count": 16,
      "outputs": []
    },
    {
      "cell_type": "code",
      "metadata": {
        "colab": {
          "base_uri": "https://localhost:8080/",
          "height": 296
        },
        "id": "h4QHJ44X6hZ5",
        "outputId": "0803a298-1d2b-4114-f55f-ba0bbfc40966"
      },
      "source": [
        "display_errors(x_val_errors,y_pred_errors,y_true_errors)"
      ],
      "execution_count": 17,
      "outputs": [
        {
          "output_type": "display_data",
          "data": {
            "image/png": "[encoded data removed]",
            "text/plain": [
              "<Figure size 432x288 with 6 Axes>"
            ]
          },
          "metadata": {
            "tags": [],
            "needs_background": "light"
          }
        }
      ]
    }
  ]
}