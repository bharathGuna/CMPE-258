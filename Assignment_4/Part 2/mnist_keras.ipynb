{
  "nbformat": 4,
  "nbformat_minor": 0,
  "metadata": {
    "colab": {
      "name": "mnist_keras.ipynb",
      "provenance": [],
      "collapsed_sections": []
    },
    "kernelspec": {
      "name": "python3",
      "display_name": "Python 3"
    },
    "language_info": {
      "name": "python"
    },
    "accelerator": "GPU"
  },
  "cells": [
    {
      "cell_type": "markdown",
      "metadata": {
        "id": "ctK8GWKN34Zf"
      },
      "source": [
        "# Bharath Gunasekaran\n",
        "# CMPE-258 \n",
        "\n",
        "Mnist with Kera MLP"
      ]
    },
    {
      "cell_type": "code",
      "metadata": {
        "id": "8J2yTId7UJbo"
      },
      "source": [
        "import numpy as np\n",
        "import matplotlib.pyplot as plt\n",
        "\n",
        "from keras.datasets import mnist\n",
        "from keras.models import Sequential, load_model\n",
        "from keras.layers.core import Dense, Dropout, Activation, Flatten\n",
        "from keras.utils import np_utils\n",
        "from keras.preprocessing.image import ImageDataGenerator\n",
        "from sklearn.metrics import confusion_matrix"
      ],
      "execution_count": 1,
      "outputs": []
    },
    {
      "cell_type": "code",
      "metadata": {
        "id": "pqouVSycUm8K"
      },
      "source": [
        "(x_train, y_train), (x_test, y_test) = mnist.load_data()"
      ],
      "execution_count": 2,
      "outputs": []
    },
    {
      "cell_type": "code",
      "metadata": {
        "colab": {
          "base_uri": "https://localhost:8080/",
          "height": 285
        },
        "id": "ofj584zsVqFm",
        "outputId": "891446c4-3bf8-47a1-8d49-641df80b7e74"
      },
      "source": [
        "# Looking at how the data looks\n",
        "plt.subplot(221)\n",
        "plt.imshow(x_train[0], cmap=plt.get_cmap('gray'))\n",
        "plt.subplot(222)\n",
        "plt.imshow(x_train[1], cmap=plt.get_cmap('gray'))\n",
        "plt.subplot(223)\n",
        "plt.imshow(x_train[2], cmap=plt.get_cmap('gray'))\n",
        "plt.subplot(224)\n",
        "plt.imshow(x_train[3], cmap=plt.get_cmap('gray'))\n",
        "# show the plot\n",
        "plt.show()\n",
        "print(x_train[0].shape)\n"
      ],
      "execution_count": 3,
      "outputs": [
        {
          "output_type": "display_data",
          "data": {
            "image/png": "[encoded data removed]",
            "text/plain": [
              "<Figure size 432x288 with 4 Axes>"
            ]
          },
          "metadata": {
            "tags": [],
            "needs_background": "light"
          }
        },
        {
          "output_type": "stream",
          "text": [
            "(28, 28)\n"
          ],
          "name": "stdout"
        }
      ]
    },
    {
      "cell_type": "code",
      "metadata": {
        "id": "xe5DcP2VWKEl"
      },
      "source": [
        "\n",
        "# building the input vector from the 28x28 pixels\n",
        "x_train = x_train.reshape(60000, 28,28,1)\n",
        "x_test = x_test.reshape(10000,  28,28,1)\n",
        "x_train = x_train.astype('float32')\n",
        "x_test = x_test.astype('float32')\n",
        "\n",
        "# Normalizing Images\n",
        "x_train = x_train/255\n",
        "x_test = x_test/255\n"
      ],
      "execution_count": 4,
      "outputs": []
    },
    {
      "cell_type": "code",
      "metadata": {
        "id": "6eqpLrpYgb6Z"
      },
      "source": [
        "# one-hot encoding using keras' numpy-related utilities\n",
        "n_classes = 10\n",
        "y_train = np_utils.to_categorical(y_train, n_classes)\n",
        "y_test = np_utils.to_categorical(y_test, n_classes)\n"
      ],
      "execution_count": 5,
      "outputs": []
    },
    {
      "cell_type": "code",
      "metadata": {
        "id": "2OfnquJGXEiO"
      },
      "source": [
        "\"\"\"\n",
        "Building Model with 4 layers. I am using both relu, tanh, and softmax as my activation layers.\n",
        "\"\"\"\n",
        "model = Sequential()\n",
        "model.add(Dense(512, input_shape=(784,)))\n",
        "model.add(Activation('relu'))                            \n",
        "model.add(Dropout(0.2))\n",
        "model.add(Dense(300))\n",
        "model.add(Activation('tanh'))\n",
        "model.add(Dropout(0.5))\n",
        "model.add(Dense(100))\n",
        "model.add(Activation('tanh'))\n",
        "model.add(Dropout(0.5))\n",
        "model.add(Dense(10))\n",
        "model.add(Activation('softmax'))"
      ],
      "execution_count": 6,
      "outputs": []
    },
    {
      "cell_type": "code",
      "metadata": {
        "id": "6PDbKg6oac44"
      },
      "source": [
        "# compiling model\n",
        "model.compile(loss='categorical_crossentropy', metrics=['accuracy'], optimizer='adam')"
      ],
      "execution_count": 7,
      "outputs": []
    },
    {
      "cell_type": "code",
      "metadata": {
        "id": "n6HZxNWYBmNd"
      },
      "source": [
        "datagen = ImageDataGenerator(\n",
        "        featurewise_center=False,  # set input mean to 0 over the dataset\n",
        "        samplewise_center=False,  # set each sample mean to 0\n",
        "        featurewise_std_normalization=False,  # divide inputs by std of the dataset\n",
        "        samplewise_std_normalization=False,  # divide each input by its std\n",
        "        zca_whitening=False,  # apply ZCA whitening\n",
        "        rotation_range=10,  # randomly rotate images in the range (degrees, 0 to 180)\n",
        "        zoom_range = 0.1, # Randomly zoom image \n",
        "        width_shift_range=0.1,  # randomly shift images horizontally (fraction of total width)\n",
        "        height_shift_range=0.1,  # randomly shift images vertically (fraction of total height)\n",
        "        horizontal_flip=False,  # randomly flip images\n",
        "        vertical_flip=False)  # randomly flip images\n",
        "\n",
        "datagen.fit(x_train)"
      ],
      "execution_count": 8,
      "outputs": []
    },
    {
      "cell_type": "code",
      "metadata": {
        "id": "o3jP2WYR7UM2"
      },
      "source": [
        "x_train = x_train.reshape(60000,784)\n",
        "x_test = x_test.reshape(10000,784)"
      ],
      "execution_count": 9,
      "outputs": []
    },
    {
      "cell_type": "code",
      "metadata": {
        "colab": {
          "base_uri": "https://localhost:8080/"
        },
        "id": "3cMYEiVI5DO6",
        "outputId": "ebbcf68c-de6b-4044-df7b-1e552239cefe"
      },
      "source": [
        "history = model.fit(x_train, y_train, steps_per_epoch=len(x_train) / 128,\n",
        "                              epochs = 20, validation_data = (x_test,y_test),\n",
        "                              verbose = 2)"
      ],
      "execution_count": 10,
      "outputs": [
        {
          "output_type": "stream",
          "text": [
            "Epoch 1/20\n",
            "468/468 - 3s - loss: 0.3254 - accuracy: 0.9023 - val_loss: 0.1133 - val_accuracy: 0.9657\n",
            "Epoch 2/20\n",
            "468/468 - 1s - loss: 0.1425 - accuracy: 0.9582 - val_loss: 0.1012 - val_accuracy: 0.9699\n",
            "Epoch 3/20\n",
            "468/468 - 1s - loss: 0.1064 - accuracy: 0.9688 - val_loss: 0.0958 - val_accuracy: 0.9712\n",
            "Epoch 4/20\n",
            "468/468 - 1s - loss: 0.0883 - accuracy: 0.9735 - val_loss: 0.0776 - val_accuracy: 0.9781\n",
            "Epoch 5/20\n",
            "468/468 - 1s - loss: 0.0727 - accuracy: 0.9788 - val_loss: 0.0727 - val_accuracy: 0.9803\n",
            "Epoch 6/20\n",
            "468/468 - 1s - loss: 0.0671 - accuracy: 0.9795 - val_loss: 0.0693 - val_accuracy: 0.9818\n",
            "Epoch 7/20\n",
            "468/468 - 1s - loss: 0.0568 - accuracy: 0.9824 - val_loss: 0.0810 - val_accuracy: 0.9789\n",
            "Epoch 8/20\n",
            "468/468 - 1s - loss: 0.0532 - accuracy: 0.9844 - val_loss: 0.0677 - val_accuracy: 0.9834\n",
            "Epoch 9/20\n",
            "468/468 - 1s - loss: 0.0499 - accuracy: 0.9845 - val_loss: 0.0747 - val_accuracy: 0.9802\n",
            "Epoch 10/20\n",
            "468/468 - 1s - loss: 0.0468 - accuracy: 0.9858 - val_loss: 0.0752 - val_accuracy: 0.9808\n",
            "Epoch 11/20\n",
            "468/468 - 1s - loss: 0.0402 - accuracy: 0.9875 - val_loss: 0.0802 - val_accuracy: 0.9810\n",
            "Epoch 12/20\n",
            "468/468 - 1s - loss: 0.0412 - accuracy: 0.9874 - val_loss: 0.0762 - val_accuracy: 0.9822\n",
            "Epoch 13/20\n",
            "468/468 - 1s - loss: 0.0364 - accuracy: 0.9891 - val_loss: 0.0739 - val_accuracy: 0.9813\n",
            "Epoch 14/20\n",
            "468/468 - 1s - loss: 0.0335 - accuracy: 0.9899 - val_loss: 0.0870 - val_accuracy: 0.9807\n",
            "Epoch 15/20\n",
            "468/468 - 1s - loss: 0.0332 - accuracy: 0.9894 - val_loss: 0.0792 - val_accuracy: 0.9808\n",
            "Epoch 16/20\n",
            "468/468 - 1s - loss: 0.0330 - accuracy: 0.9901 - val_loss: 0.0781 - val_accuracy: 0.9823\n",
            "Epoch 17/20\n",
            "468/468 - 1s - loss: 0.0326 - accuracy: 0.9901 - val_loss: 0.0797 - val_accuracy: 0.9819\n",
            "Epoch 18/20\n",
            "468/468 - 1s - loss: 0.0294 - accuracy: 0.9912 - val_loss: 0.0817 - val_accuracy: 0.9814\n",
            "Epoch 19/20\n",
            "468/468 - 1s - loss: 0.0293 - accuracy: 0.9911 - val_loss: 0.0788 - val_accuracy: 0.9821\n",
            "Epoch 20/20\n",
            "468/468 - 1s - loss: 0.0253 - accuracy: 0.9922 - val_loss: 0.0851 - val_accuracy: 0.9817\n"
          ],
          "name": "stdout"
        }
      ]
    },
    {
      "cell_type": "code",
      "metadata": {
        "colab": {
          "base_uri": "https://localhost:8080/",
          "height": 313
        },
        "id": "SkHxaqT5hp4A",
        "outputId": "c326efd5-010e-4e0a-a745-304e35d0cc33"
      },
      "source": [
        "# plotting the metrics\n",
        "fig = plt.figure()\n",
        "plt.subplot(2,1,1)\n",
        "plt.plot(history.history['accuracy'])\n",
        "plt.plot(history.history['val_accuracy'])\n",
        "plt.title('model accuracy')\n",
        "plt.ylabel('accuracy')\n",
        "plt.xlabel('epoch')\n",
        "plt.legend(['train', 'test'], loc='lower right')\n",
        "\n",
        "plt.subplot(2,1,2)\n",
        "plt.plot(history.history['loss'])\n",
        "plt.plot(history.history['val_loss'])\n",
        "plt.title('model loss')\n",
        "plt.ylabel('loss')\n",
        "plt.xlabel('epoch')\n",
        "plt.legend(['train', 'test'], loc='upper right')"
      ],
      "execution_count": 11,
      "outputs": [
        {
          "output_type": "execute_result",
          "data": {
            "text/plain": [
              "<matplotlib.legend.Legend at 0x7fcde013e9d0>"
            ]
          },
          "metadata": {
            "tags": []
          },
          "execution_count": 11
        },
        {
          "output_type": "display_data",
          "data": {
            "image/png": "[encoded data removed]",
            "text/plain": [
              "<Figure size 432x288 with 2 Axes>"
            ]
          },
          "metadata": {
            "tags": [],
            "needs_background": "light"
          }
        }
      ]
    },
    {
      "cell_type": "code",
      "metadata": {
        "id": "gN1cpMPqHtAO"
      },
      "source": [
        "# Convert Y predict to a single class based on what label is maxed\n",
        "y_pred = model.predict(x_test)\n",
        "y_pred = np.argmax(y_pred, axis = 1) \n",
        "y_test = np.argmax(y_test, axis = 1) "
      ],
      "execution_count": 12,
      "outputs": []
    },
    {
      "cell_type": "code",
      "metadata": {
        "colab": {
          "base_uri": "https://localhost:8080/",
          "height": 311
        },
        "id": "dlk1yudzILjm",
        "outputId": "0d283f80-0710-4bb4-e062-384a38206c6b"
      },
      "source": [
        "# Confusion matrix \n",
        "# Code referenced from https://www.kaggle.com/yassineghouzam/introduction-to-cnn-keras-0-997-top-6\n",
        "import itertools\n",
        "def plot_confusion_matrix(cm, classes,\n",
        "                          normalize=False,\n",
        "                          title='Confusion matrix',\n",
        "                          cmap=plt.cm.Blues):\n",
        "    plt.imshow(cm, interpolation='nearest', cmap=cmap)\n",
        "    plt.title(title)\n",
        "    plt.colorbar()\n",
        "    tick_marks = np.arange(len(classes))\n",
        "    plt.xticks(tick_marks, classes, rotation=45)\n",
        "    plt.yticks(tick_marks, classes)\n",
        "\n",
        "    thresh = cm.max() / 2.\n",
        "    for i, j in itertools.product(range(cm.shape[0]), range(cm.shape[1])):\n",
        "      plt.text(j, i, cm[i, j],horizontalalignment=\"center\",color=\"white\" if cm[i, j] > thresh else \"black\")\n",
        "\n",
        "    plt.tight_layout()\n",
        "    plt.ylabel('True labels')\n",
        "    plt.xlabel('Predicted labels')\n",
        "\n",
        "confusion_mtx = confusion_matrix(y_test, y_pred) \n",
        "\n",
        "plot_confusion_matrix(confusion_mtx, classes = range(10))"
      ],
      "execution_count": 19,
      "outputs": [
        {
          "output_type": "display_data",
          "data": {
            "image/png": "[encoded data removed]",
            "text/plain": [
              "<Figure size 432x288 with 2 Axes>"
            ]
          },
          "metadata": {
            "tags": [],
            "needs_background": "light"
          }
        }
      ]
    },
    {
      "cell_type": "code",
      "metadata": {
        "id": "sWsmN-5YyHjU"
      },
      "source": [
        "# Finding all images that the model failed to predict\n",
        "y_pred = np.array(y_pred)\n",
        "y_true = np.array(y_test)\n",
        "errors = (y_pred - y_true != 0)\n",
        "\n",
        "y_pred_errors = y_pred[errors]\n",
        "y_true_errors = y_true[errors]\n",
        "x_test_errors = x_test[errors]\n"
      ],
      "execution_count": 16,
      "outputs": []
    },
    {
      "cell_type": "code",
      "metadata": {
        "id": "gn5SqDdh4S77"
      },
      "source": [
        "def display_errors(img_errors, pred_errors, obs_errors):\n",
        "    \"\"\" This function shows 6 images with their predicted and real labels\"\"\"\n",
        "    n = 0\n",
        "    nrows = 2\n",
        "    ncols = 3\n",
        "    index = 0\n",
        "    fig, ax = plt.subplots(nrows,ncols,sharex=True,sharey=True)\n",
        "    for row in range(nrows):\n",
        "        for col in range(ncols):\n",
        "            ax[row,col].imshow((img_errors[index]).reshape((28,28)))\n",
        "            ax[row,col].set_title(\"Predicted label :{}\\nTrue label :{}\".format(pred_errors[index],obs_errors[index]))\n",
        "            n += 1\n",
        "            index+=1"
      ],
      "execution_count": 17,
      "outputs": []
    },
    {
      "cell_type": "code",
      "metadata": {
        "colab": {
          "base_uri": "https://localhost:8080/",
          "height": 296
        },
        "id": "h4QHJ44X6hZ5",
        "outputId": "912ceab9-5a77-4380-c7c5-8103ea140065"
      },
      "source": [
        "display_errors(x_test_errors,y_pred_errors,y_true_errors)"
      ],
      "execution_count": 18,
      "outputs": [
        {
          "output_type": "display_data",
          "data": {
            "image/png": "[encoded data removed]",
            "text/plain": [
              "<Figure size 432x288 with 6 Axes>"
            ]
          },
          "metadata": {
            "tags": [],
            "needs_background": "light"
          }
        }
      ]
    }
  ]
}