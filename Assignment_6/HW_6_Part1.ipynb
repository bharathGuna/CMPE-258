{
  "nbformat": 4,
  "nbformat_minor": 0,
  "metadata": {
    "colab": {
      "name": "HW_6_Part1.ipynb",
      "provenance": [],
      "collapsed_sections": []
    },
    "kernelspec": {
      "display_name": "Python 3",
      "name": "python3"
    },
    "language_info": {
      "name": "python"
    }
  },
  "cells": [
    {
      "cell_type": "markdown",
      "metadata": {
        "id": "LF9fj2O5MkTl"
      },
      "source": [
        "# Bharath Gunasekaran\n",
        "HW 6 CMPE 258"
      ]
    },
    {
      "cell_type": "markdown",
      "metadata": {
        "id": "zdzc4sfhMrkH"
      },
      "source": [
        "# Defining Tensor Class"
      ]
    },
    {
      "cell_type": "code",
      "metadata": {
        "id": "3jp--i4Aj-u8"
      },
      "source": [
        "import numpy as np\n",
        "\n",
        "class Tensor (object):\n",
        "    \n",
        "    def __init__(self,data,\n",
        "                 autograd=False,\n",
        "                 parents=None,\n",
        "                 parent_op=None,\n",
        "                 id=None):\n",
        "        \n",
        "        self.data = np.array(data)\n",
        "        self.autograd = autograd\n",
        "        self.grad = None\n",
        "        if(id is None):\n",
        "            self.id = np.random.randint(0,100000)\n",
        "        else:\n",
        "            self.id = id\n",
        "        \n",
        "        self.parents = parents\n",
        "        self.parent_op = parent_op\n",
        "        self.children = {}\n",
        "        \n",
        "        if(parents is not None):\n",
        "            for c in parents:\n",
        "                if(self.id not in c.children):\n",
        "                    c.children[self.id] = 1\n",
        "                else:\n",
        "                    c.children[self.id] += 1\n",
        "\n",
        "    def all_children_grads_accounted_for(self):\n",
        "        for id,cnt in self.children.items():\n",
        "            if(cnt != 0):\n",
        "                return False\n",
        "        return True \n",
        "        \n",
        "    def backward(self,grad=None, grad_origin=None):\n",
        "        if(self.autograd):\n",
        " \n",
        "            if(grad is None):\n",
        "                grad = Tensor(np.ones_like(self.data))\n",
        "\n",
        "            if(grad_origin is not None):\n",
        "                if(self.children[grad_origin.id] == 0):\n",
        "                    raise Exception(\"cannot backprop more than once\")\n",
        "                else:\n",
        "                    self.children[grad_origin.id] -= 1\n",
        "\n",
        "            if(self.grad is None):\n",
        "                self.grad = grad\n",
        "            else:\n",
        "                self.grad += grad\n",
        "            \n",
        "            assert grad.autograd == False\n",
        "            \n",
        "            if(self.parents is not None and \n",
        "               (self.all_children_grads_accounted_for() or \n",
        "                grad_origin is None)):\n",
        "\n",
        "                if(self.parent_op == \"add\"):\n",
        "                    self.parents[0].backward(self.grad, self)\n",
        "                    self.parents[1].backward(self.grad, self)\n",
        "                    \n",
        "                if(self.parent_op == \"sub\"):\n",
        "                    self.parents[0].backward(Tensor(self.grad.data), self)\n",
        "                    self.parents[1].backward(Tensor(self.grad.__neg__().data), self)\n",
        "\n",
        "                if(self.parent_op == \"mul\"):\n",
        "                    new = self.grad * self.parents[1]\n",
        "                    self.parents[0].backward(new , self)\n",
        "                    new = self.grad * self.parents[0]\n",
        "                    self.parents[1].backward(new, self)                    \n",
        "                    \n",
        "                if(self.parent_op == \"mm\"):\n",
        "                    c0 = self.parents[0]\n",
        "                    c1 = self.parents[1]\n",
        "                    new = self.grad.mm(c1.transpose())\n",
        "                    c0.backward(new)\n",
        "                    new = self.grad.transpose().mm(c0).transpose()\n",
        "                    c1.backward(new)\n",
        "                    \n",
        "                if(self.parent_op == \"transpose\"):\n",
        "                    self.parents[0].backward(self.grad.transpose())\n",
        "\n",
        "                if(\"sum\" in self.parent_op):\n",
        "                    dim = int(self.parent_op.split(\"_\")[1])\n",
        "                    self.parents[0].backward(self.grad.expand(dim,\n",
        "                                                               self.parents[0].data.shape[dim]))\n",
        "\n",
        "                if(\"expand\" in self.parent_op):\n",
        "                    dim = int(self.parent_op.split(\"_\")[1])\n",
        "                    self.parents[0].backward(self.grad.sum(dim))\n",
        "                    \n",
        "                if(self.parent_op == \"neg\"):\n",
        "                    self.parents[0].backward(self.grad.__neg__())\n",
        "                    \n",
        "                if(self.parent_op == \"sigmoid\"):\n",
        "                    ones = Tensor(np.ones_like(self.grad.data))\n",
        "                    self.parents[0].backward(self.grad * (self * (ones - self)))\n",
        "                \n",
        "                if(self.parent_op == \"tanh\"):\n",
        "                    ones = Tensor(np.ones_like(self.grad.data))\n",
        "                    self.parents[0].backward(self.grad * (ones - (self * self)))\n",
        "                \n",
        "                if(self.parent_op == \"relu\"):\n",
        "                    ones = Tensor(np.ones_like(self.grad.data))\n",
        "                    self.parents[0].backward(self.grad * (self.data > 0))\n",
        "\n",
        "                    \n",
        "    def __add__(self, other):\n",
        "        if(self.autograd and other.autograd):\n",
        "            return Tensor(self.data + other.data,\n",
        "                          autograd=True,\n",
        "                          parents=[self,other],\n",
        "                          parent_op=\"add\")\n",
        "        return Tensor(self.data + other.data)\n",
        "\n",
        "    def __neg__(self):\n",
        "        if(self.autograd):\n",
        "            return Tensor(self.data * -1,\n",
        "                          autograd=True,\n",
        "                          parents=[self,other],\n",
        "                          parent_op=\"neg\")\n",
        "        return Tensor(self.data * -1)\n",
        "    \n",
        "    def __sub__(self, other):\n",
        "        if(self.autograd and other.autograd):\n",
        "            return Tensor(self.data - other.data,\n",
        "                          autograd=True,\n",
        "                          parents=[self,other],\n",
        "                          parent_op=\"sub\")\n",
        "        return Tensor(self.data - other.data)\n",
        "    \n",
        "    def __mul__(self, other):\n",
        "        if(self.autograd and other.autograd):\n",
        "            return Tensor(self.data * other.data,\n",
        "                          autograd=True,\n",
        "                          parents=[self,other],\n",
        "                          parent_op=\"mul\")\n",
        "        return Tensor(self.data * other.data)    \n",
        "\n",
        "    def sum(self, dim):\n",
        "        if(self.autograd):\n",
        "            return Tensor(self.data.sum(dim),\n",
        "                          autograd=True,\n",
        "                          parents=[self],\n",
        "                          parent_op=\"sum_\"+str(dim))\n",
        "        return Tensor(self.data.sum(dim))\n",
        "    \n",
        "    def expand(self, dim,copies):\n",
        "\n",
        "        trans_cmd = list(range(0,len(self.data.shape)))\n",
        "        trans_cmd.insert(dim,len(self.data.shape))\n",
        "        new_data = self.data.repeat(copies).reshape(list(self.data.shape) + [copies]).transpose(trans_cmd)\n",
        "        \n",
        "        if(self.autograd):\n",
        "            return Tensor(new_data,\n",
        "                          autograd=True,\n",
        "                          parents=[self],\n",
        "                          parent_op=\"expand_\"+str(dim))\n",
        "        return Tensor(new_data)\n",
        "    \n",
        "    def transpose(self):\n",
        "        if(self.autograd):\n",
        "            return Tensor(self.data.transpose(),\n",
        "                          autograd=True,\n",
        "                          parents=[self],\n",
        "                          parent_op=\"transpose\")\n",
        "        \n",
        "        return Tensor(self.data.transpose())\n",
        "    \n",
        "    def mm(self, x):\n",
        "        if(self.autograd):\n",
        "            return Tensor(self.data.dot(x.data),\n",
        "                          autograd=True,\n",
        "                          parents=[self,x],\n",
        "                          parent_op=\"mm\")\n",
        "        return Tensor(self.data.dot(x.data))\n",
        "    \n",
        "    def sigmoid(self):\n",
        "        if(self.autograd):\n",
        "            return Tensor(1 / (1 + np.exp(-self.data)),\n",
        "                          autograd=True,\n",
        "                          parents=[self],\n",
        "                          parent_op=\"sigmoid\")\n",
        "        return Tensor(1 / (1 + np.exp(-self.data)))\n",
        "\n",
        "    def tanh(self):\n",
        "        if(self.autograd):\n",
        "            return Tensor(np.tanh(self.data),\n",
        "                          autograd=True,\n",
        "                          parents=[self],\n",
        "                          parent_op=\"tanh\")\n",
        "        return Tensor(np.tanh(self.data))\n",
        "    \n",
        "    def relu(self):\n",
        "        if(self.autograd):\n",
        "            return Tensor(np.maximum(np.zeros_like(self.data),self.data),\n",
        "                          autograd=True,\n",
        "                          parents=[self],\n",
        "                          parent_op=\"relu\")\n",
        "        return Tensor(np.maximum(np.zeros_like(self.data),self.data))\n",
        "        \n",
        "    \n",
        "    def __repr__(self):\n",
        "        return str(self.data.__repr__())\n",
        "    \n",
        "    def __str__(self):\n",
        "        return str(self.data.__str__())  \n",
        "    \n"
      ],
      "execution_count": 23,
      "outputs": []
    },
    {
      "cell_type": "markdown",
      "metadata": {
        "id": "5QxTIS0APQfz"
      },
      "source": [
        "# Unit Tests\n"
      ]
    },
    {
      "cell_type": "code",
      "metadata": {
        "id": "7jtce-UDPSJ3"
      },
      "source": [
        "  # Testing Add\n",
        "  x = Tensor([1, 2, 3, 4, 5], autograd=True)\n",
        "  y = Tensor([1, 1, 1, 1, 1], autograd=True)\n",
        "  z = x+y\n",
        "  z.backward(Tensor(np.array([1, 1, 1, 1, 1])))\n",
        "  np.testing.assert_array_equal(x.grad.data, [1, 1, 1, 1, 1])\n",
        "  np.testing.assert_array_equal(y.grad.data, [1, 1, 1, 1, 1])\n"
      ],
      "execution_count": 31,
      "outputs": []
    },
    {
      "cell_type": "code",
      "metadata": {
        "id": "5mWyebDLPgB5"
      },
      "source": [
        "  # Testing Sub\n",
        "  x = Tensor([1, 2, 3, 4, 5], autograd=True)\n",
        "  y = Tensor([1, 1, 1, 1, 1], autograd=True)\n",
        "  z = x-y\n",
        "  z.backward(Tensor(np.array([1, 1, 1, 1, 1])))\n",
        "  np.testing.assert_array_equal(x.grad.data, [1, 1, 1, 1, 1])\n",
        "  np.testing.assert_array_equal(y.grad.data, [-1, -1, -1, -1, -1])\n"
      ],
      "execution_count": 32,
      "outputs": []
    },
    {
      "cell_type": "code",
      "metadata": {
        "id": "jqFXkKlnmKOP"
      },
      "source": [
        "class SGD(object):\n",
        "    \n",
        "    def __init__(self, parameters, alpha=0.1):\n",
        "        self.parameters = parameters\n",
        "        self.alpha = alpha\n",
        "    \n",
        "    def zero(self):\n",
        "        for p in self.parameters:\n",
        "            p.grad.data *= 0\n",
        "        \n",
        "    def step(self, zero=True):\n",
        "        \n",
        "        for p in self.parameters:\n",
        "            \n",
        "            p.data -= p.grad.data * self.alpha\n",
        "            \n",
        "            if(zero):\n",
        "                p.grad.data *= 0"
      ],
      "execution_count": 16,
      "outputs": []
    },
    {
      "cell_type": "code",
      "metadata": {
        "id": "uz_10slfnwKZ"
      },
      "source": [
        "class Layer(object):\n",
        "    \n",
        "    def __init__(self):\n",
        "        self.parameters = list()\n",
        "        \n",
        "    def get_parameters(self):\n",
        "        return self.parameters\n",
        "\n",
        "\n",
        "class Linear(Layer):\n",
        "\n",
        "    def __init__(self, n_inputs, n_outputs):\n",
        "        super().__init__()\n",
        "        W = np.random.randn(n_inputs, n_outputs) * np.sqrt(2.0/(n_inputs))\n",
        "        self.weight = Tensor(W, autograd=True)\n",
        "        self.bias = Tensor(np.zeros(n_outputs), autograd=True)\n",
        "        \n",
        "        self.parameters.append(self.weight)\n",
        "        self.parameters.append(self.bias)\n",
        "\n",
        "    def forward(self, input):\n",
        "        return input.mm(self.weight)+self.bias.expand(0,len(input.data))"
      ],
      "execution_count": 17,
      "outputs": []
    },
    {
      "cell_type": "code",
      "metadata": {
        "id": "v1yO_UU_oLX5"
      },
      "source": [
        "class Sequential(Layer):\n",
        "    \n",
        "    def __init__(self, layers=list()):\n",
        "        super().__init__()\n",
        "        \n",
        "        self.layers = layers\n",
        "    \n",
        "    def add(self, layer):\n",
        "        self.layers.append(layer)\n",
        "        \n",
        "    def forward(self, input):\n",
        "        for layer in self.layers:\n",
        "            input = layer.forward(input)\n",
        "        return input\n",
        "    \n",
        "    def get_parameters(self):\n",
        "        params = list()\n",
        "        for l in self.layers:\n",
        "            params += l.get_parameters()\n",
        "        return params"
      ],
      "execution_count": 18,
      "outputs": []
    },
    {
      "cell_type": "code",
      "metadata": {
        "id": "OvTV3O1ln0HD"
      },
      "source": [
        "class MSELoss(Layer):\n",
        "    \n",
        "    def __init__(self):\n",
        "        super().__init__()\n",
        "    \n",
        "    def forward(self, pred, target):\n",
        "        return ((pred - target)*(pred - target)).sum(0)"
      ],
      "execution_count": 19,
      "outputs": []
    },
    {
      "cell_type": "code",
      "metadata": {
        "id": "GUck1cyboo8a"
      },
      "source": [
        "class Tanh(Layer):\n",
        "    def __init__(self):\n",
        "        super().__init__()\n",
        "    \n",
        "    def forward(self, input):\n",
        "        return input.tanh()\n",
        "    \n",
        "class Sigmoid(Layer):\n",
        "    def __init__(self):\n",
        "        super().__init__()\n",
        "    \n",
        "    def forward(self, input):\n",
        "        return input.sigmoid()"
      ],
      "execution_count": 20,
      "outputs": []
    },
    {
      "cell_type": "code",
      "metadata": {
        "id": "ZkDx8btdox4k"
      },
      "source": [
        "class Relu(Layer):\n",
        "    def __init__(self):\n",
        "        super().__init__()\n",
        "    \n",
        "    def forward(self, input):\n",
        "        return input.relu()"
      ],
      "execution_count": 21,
      "outputs": []
    },
    {
      "cell_type": "code",
      "metadata": {
        "colab": {
          "base_uri": "https://localhost:8080/"
        },
        "id": "KmkAeROcrB79",
        "outputId": "b93035c2-ff97-4d12-bfec-0680b429e6e2"
      },
      "source": [
        "import numpy\n",
        "np.random.seed(0)\n",
        "\n",
        "data = Tensor(np.array([[0,0],[0,1],[1,0],[1,1]]), autograd=True)\n",
        "target = Tensor(np.array([[0],[1],[0],[1]]), autograd=True)\n",
        "\n",
        "model = Sequential([Linear(2,3), Tanh(), Linear(3,1), Sigmoid()])\n",
        "criterion = MSELoss()\n",
        "\n",
        "optim = SGD(parameters=model.get_parameters(), alpha=1)\n",
        "\n",
        "for i in range(10):\n",
        "    \n",
        "    # Predict\n",
        "    pred = model.forward(data)\n",
        "    \n",
        "    # Compare\n",
        "    loss = criterion.forward(pred, target)\n",
        "    \n",
        "    # Learn\n",
        "    loss.backward(Tensor(np.ones_like(loss.data)))\n",
        "    optim.step()\n",
        "    print(loss)"
      ],
      "execution_count": 25,
      "outputs": [
        {
          "output_type": "stream",
          "text": [
            "[1.06372865]\n",
            "[0.75148144]\n",
            "[0.57384259]\n",
            "[0.39574294]\n",
            "[0.2482279]\n",
            "[0.15515294]\n",
            "[0.10423398]\n",
            "[0.07571169]\n",
            "[0.05837623]\n",
            "[0.04700013]\n"
          ],
          "name": "stdout"
        }
      ]
    },
    {
      "cell_type": "code",
      "metadata": {
        "colab": {
          "base_uri": "https://localhost:8080/"
        },
        "id": "LbFmFtPjosIs",
        "outputId": "67d4fbbb-8a01-4d0f-9fc9-183b447ba658"
      },
      "source": [
        "import numpy\n",
        "np.random.seed(0)\n",
        "\n",
        "data = Tensor(np.array([[0,0],[0,1],[1,0],[1,1]]), autograd=True)\n",
        "target = Tensor(np.array([[0],[1],[0],[1]]), autograd=True)\n",
        "\n",
        "model = Sequential([Linear(2,3), Relu(), Linear(3,1), Sigmoid()])\n",
        "criterion = MSELoss()\n",
        "\n",
        "optim = SGD(parameters=model.get_parameters(), alpha=1)\n",
        "\n",
        "for i in range(10):\n",
        "    \n",
        "    # Predict\n",
        "    pred = model.forward(data)\n",
        "    \n",
        "    # Compare\n",
        "    loss = criterion.forward(pred, target)\n",
        "    \n",
        "    # Learn\n",
        "    loss.backward(Tensor(np.ones_like(loss.data)))\n",
        "    optim.step()\n",
        "    print(loss)"
      ],
      "execution_count": 24,
      "outputs": [
        {
          "output_type": "stream",
          "text": [
            "[1.08079127]\n",
            "[0.68681444]\n",
            "[0.47124889]\n",
            "[0.33092758]\n",
            "[0.2373891]\n",
            "[0.17621206]\n",
            "[0.1351892]\n",
            "[0.10290588]\n",
            "[0.08081334]\n",
            "[0.06520201]\n"
          ],
          "name": "stdout"
        }
      ]
    },
    {
      "cell_type": "code",
      "metadata": {
        "colab": {
          "base_uri": "https://localhost:8080/"
        },
        "id": "vSMcGupooS_6",
        "outputId": "88d29065-c1a2-48f9-c91e-f073f9648538"
      },
      "source": [
        "np.random.seed(0)\n",
        "\n",
        "data = Tensor(np.array([[0,0],[0,1],[1,0],[1,1]]), autograd=True)\n",
        "target = Tensor(np.array([[0],[1],[0],[1]]), autograd=True)\n",
        "\n",
        "model = Sequential([Linear(2,3), Linear(3,1)])\n",
        "criterion = MSELoss()\n",
        "\n",
        "optim = SGD(parameters=model.get_parameters(), alpha=0.05)\n",
        "\n",
        "for i in range(10):\n",
        "    \n",
        "    # Predict\n",
        "    pred = model.forward(data)\n",
        "    \n",
        "    # Compare\n",
        "    loss = criterion.forward(pred, target)\n",
        "    \n",
        "    # Learn\n",
        "    loss.backward(Tensor(np.ones_like(loss.data)))\n",
        "    optim.step()\n",
        "    print(loss)"
      ],
      "execution_count": 26,
      "outputs": [
        {
          "output_type": "stream",
          "text": [
            "[2.33428272]\n",
            "[0.06743796]\n",
            "[0.0521849]\n",
            "[0.04079507]\n",
            "[0.03184365]\n",
            "[0.02479336]\n",
            "[0.01925443]\n",
            "[0.01491699]\n",
            "[0.01153118]\n",
            "[0.00889602]\n"
          ],
          "name": "stdout"
        }
      ]
    },
    {
      "cell_type": "markdown",
      "metadata": {
        "id": "LJYpCgD3WhVu"
      },
      "source": [
        "# MNIST Classification"
      ]
    },
    {
      "cell_type": "code",
      "metadata": {
        "colab": {
          "base_uri": "https://localhost:8080/"
        },
        "id": "eIfmi2nIWgRB",
        "outputId": "5a6e506a-ddc3-4e7e-a443-64a002900e57"
      },
      "source": [
        "from keras.datasets import mnist\n",
        "import numpy as np\n",
        "\n",
        "# Load MNIST dataset from keras\n",
        "(X_train, Y_train), (X_test, Y_test) = mnist.load_data()\n",
        "\n",
        "# Number of samples\n",
        "n = 1000\n",
        "random_index = np.random.randint(n, size=n) # Randomly select training data\n",
        "images, labels = (X_train[random_index].reshape(len(X_train[random_index]),28*28)/255, Y_train[random_index])\n",
        "\n",
        "# Convert train label into one-hot encoding\n",
        "train_labels = np.zeros((len(labels),10))\n",
        "for i,l in enumerate(labels):\n",
        "    train_labels[i][l] = 1\n",
        "\n",
        "# Flatten the testing data \n",
        "test_images = X_test.reshape(len(X_test),28*28)/255\n",
        "\n",
        "test_labels = np.zeros((len(Y_test),10)) # one-hot encode test labels\n",
        "for i,l in enumerate(Y_test):\n",
        "    test_labels[i][l] = 1\n",
        "\n",
        "print(f'Train Data: {images.shape}, Train Label: {train_labels.shape}, Test Data: {test_images.shape}, Test Label: {test_labels.shape}')"
      ],
      "execution_count": 27,
      "outputs": [
        {
          "output_type": "stream",
          "text": [
            "Train Data: (1000, 784), Train Label: (1000, 10), Test Data: (10000, 784), Test Label: (10000, 10)\n"
          ],
          "name": "stdout"
        }
      ]
    },
    {
      "cell_type": "code",
      "metadata": {
        "colab": {
          "base_uri": "https://localhost:8080/"
        },
        "id": "brm4QfolW0Fg",
        "outputId": "814ebb0f-9a1f-4acc-be52-472c6debfaa4"
      },
      "source": [
        "data = Tensor(images, autograd=True)\n",
        "target = Tensor(train_labels, autograd=True)\n",
        "\n",
        "model = Sequential([Linear(784,400), Relu() ,Linear(400,200), Relu(),Linear(200,80), Tanh(), Linear(80,10), Sigmoid()])\n",
        "criterion = MSELoss()\n",
        "\n",
        "optim = SGD(parameters=model.get_parameters(), alpha=0.001)\n",
        "batch_size = 256\n",
        "for epoch in range(300):\n",
        "    pred = model.forward(data)\n",
        "    \n",
        "    # Compare\n",
        "    loss = criterion.forward(pred, target)\n",
        "    \n",
        "    # Learn\n",
        "    loss.backward(Tensor(np.ones_like(loss.data)))\n",
        "    optim.step()\n",
        "    train_correct = (np.argmax(target.data,axis=1) == np.argmax(pred.data,axis=1)).mean()\n",
        "    if(epoch % 10 == 0):\n",
        "      print(\"Epoch\", epoch,\"Train Accuracy:\",train_correct,\"Train Loss:\", (loss.sum(0).data)/len(data.data))\n",
        "    # print(loss)"
      ],
      "execution_count": 28,
      "outputs": [
        {
          "output_type": "stream",
          "text": [
            "Epoch 0 Train Accuracy: 0.089 Train Loss: 2.6508664796113686\n",
            "Epoch 10 Train Accuracy: 0.113 Train Loss: 0.9215548865433505\n",
            "Epoch 20 Train Accuracy: 0.158 Train Loss: 0.9147453516935969\n",
            "Epoch 30 Train Accuracy: 0.151 Train Loss: 0.9477065791567634\n",
            "Epoch 40 Train Accuracy: 0.108 Train Loss: 0.9422463331617448\n",
            "Epoch 50 Train Accuracy: 0.09 Train Loss: 0.9215076370718391\n",
            "Epoch 60 Train Accuracy: 0.143 Train Loss: 0.9478610560843823\n",
            "Epoch 70 Train Accuracy: 0.23 Train Loss: 0.9312369716566865\n",
            "Epoch 80 Train Accuracy: 0.093 Train Loss: 0.987041452612764\n",
            "Epoch 90 Train Accuracy: 0.089 Train Loss: 0.974012306930005\n",
            "Epoch 100 Train Accuracy: 0.093 Train Loss: 0.9480107867353113\n",
            "Epoch 110 Train Accuracy: 0.161 Train Loss: 0.9559859954340366\n",
            "Epoch 120 Train Accuracy: 0.089 Train Loss: 0.9784427584835181\n",
            "Epoch 130 Train Accuracy: 0.108 Train Loss: 0.9851452460419013\n",
            "Epoch 140 Train Accuracy: 0.108 Train Loss: 0.9688444362390879\n",
            "Epoch 150 Train Accuracy: 0.09 Train Loss: 0.9668304205168194\n",
            "Epoch 160 Train Accuracy: 0.167 Train Loss: 0.8993692618879972\n",
            "Epoch 170 Train Accuracy: 0.322 Train Loss: 0.7733551723178685\n",
            "Epoch 180 Train Accuracy: 0.356 Train Loss: 0.6870172185693946\n",
            "Epoch 190 Train Accuracy: 0.415 Train Loss: 0.6334256923494942\n",
            "Epoch 200 Train Accuracy: 0.431 Train Loss: 0.591859283599774\n",
            "Epoch 210 Train Accuracy: 0.434 Train Loss: 0.5802069060327308\n",
            "Epoch 220 Train Accuracy: 0.437 Train Loss: 0.5732275221485204\n",
            "Epoch 230 Train Accuracy: 0.437 Train Loss: 0.5691692242438425\n",
            "Epoch 240 Train Accuracy: 0.44 Train Loss: 0.5654931246533595\n",
            "Epoch 250 Train Accuracy: 0.602 Train Loss: 0.49652121749372397\n",
            "Epoch 260 Train Accuracy: 0.744 Train Loss: 0.3330919912157147\n",
            "Epoch 270 Train Accuracy: 0.751 Train Loss: 0.2921466987062147\n",
            "Epoch 280 Train Accuracy: 0.755 Train Loss: 0.270346578049271\n",
            "Epoch 290 Train Accuracy: 0.715 Train Loss: 0.3499977632233409\n"
          ],
          "name": "stdout"
        }
      ]
    },
    {
      "cell_type": "code",
      "metadata": {
        "colab": {
          "base_uri": "https://localhost:8080/",
          "height": 606
        },
        "id": "umsfXGo8YzzR",
        "outputId": "8daedc1e-ee64-458b-bf9a-f3fc923dffef"
      },
      "source": [
        "from sklearn.metrics import confusion_matrix\n",
        "import matplotlib.pyplot as plt\n",
        "import seaborn as sns\n",
        "\n",
        "test_data = Tensor(test_images, autograd=True)\n",
        "test_target = Tensor(test_labels, autograd=True)\n",
        "fig = plt.figure(figsize=(10, 10)) # Set Figure\n",
        "\n",
        "y_pred = model.forward(test_data) \n",
        "Y_pred = np.argmax(y_pred.data, 1) # Decode Predicted labels\n",
        "Y_test = np.argmax(test_target.data, 1) # Decode labels\n",
        "\n",
        "mat = confusion_matrix(Y_test, Y_pred) # Confusion matrix\n",
        "\n",
        "# Plot Confusion matrix\n",
        "sns.heatmap(mat.T, square=True, annot=True, cbar=False, cmap=plt.cm.Blues)\n",
        "plt.xlabel('Predicted Values')\n",
        "plt.ylabel('True Values');\n",
        "plt.show();"
      ],
      "execution_count": 29,
      "outputs": [
        {
          "output_type": "display_data",
          "data": {
            "image/png": "[encoded data removed]",
            "text/plain": [
              "<Figure size 720x720 with 1 Axes>"
            ]
          },
          "metadata": {
            "tags": [],
            "needs_background": "light"
          }
        }
      ]
    },
    {
      "cell_type": "code",
      "metadata": {
        "colab": {
          "base_uri": "https://localhost:8080/",
          "height": 820
        },
        "id": "xRsajcZlZmit",
        "outputId": "4a3fa963-9e5c-499b-f6d0-6f7cca0a6f08"
      },
      "source": [
        "fig, axis = plt.subplots(4, 4, figsize=(12, 14))\n",
        "for i, ax in enumerate(axis.flat):\n",
        "    ax.imshow(X_test[i], cmap='binary')\n",
        "    ax.set(title = f\"Real Number is {Y_test[i]}\\nPredict Number is {Y_pred[i]}\");"
      ],
      "execution_count": 30,
      "outputs": [
        {
          "output_type": "display_data",
          "data": {
            "image/png": "[encoded data removed]",
            "text/plain": [
              "<Figure size 864x1008 with 16 Axes>"
            ]
          },
          "metadata": {
            "tags": [],
            "needs_background": "light"
          }
        }
      ]
    }
  ]
}